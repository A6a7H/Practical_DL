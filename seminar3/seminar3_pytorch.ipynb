{
  "nbformat": 4,
  "nbformat_minor": 0,
  "metadata": {
    "kernelspec": {
      "name": "python3",
      "display_name": "Python 3"
    },
    "language_info": {
      "codemirror_mode": {
        "name": "ipython",
        "version": 3
      },
      "file_extension": ".py",
      "mimetype": "text/x-python",
      "name": "python",
      "nbconvert_exporter": "python",
      "pygments_lexer": "ipython3",
      "version": "3.6.4"
    },
    "colab": {
      "name": "seminar_pytorch.ipynb",
      "provenance": [],
      "toc_visible": true
    },
    "accelerator": "GPU"
  },
  "cells": [
    {
      "cell_type": "markdown",
      "metadata": {
        "collapsed": true,
        "id": "71AQJg3CDMn9",
        "colab_type": "text"
      },
      "source": [
        "# Deep learning for computer vision\n",
        "\n",
        "\n",
        "This notebook will teach you to build and train convolutional networks for image recognition. Brace yourselves."
      ]
    },
    {
      "cell_type": "code",
      "metadata": {
        "id": "cUzC0vjyYbTA",
        "colab_type": "code",
        "colab": {
          "base_uri": "https://localhost:8080/",
          "height": 150
        },
        "outputId": "d2043927-1e11-4a3c-8856-ff4105db528e"
      },
      "source": [
        "[![Open In Colab](https://colab.research.google.com/assets/colab-badge.svg)](https://github.com/yandexdataschool/Practical_DL/blob/spring20/seminar3_pytoch.ipynb)"
      ],
      "execution_count": 1,
      "outputs": [
        {
          "output_type": "error",
          "ename": "SyntaxError",
          "evalue": "ignored",
          "traceback": [
            "\u001b[0;36m  File \u001b[0;32m\"<ipython-input-1-40f3eeb87e4b>\"\u001b[0;36m, line \u001b[0;32m1\u001b[0m\n\u001b[0;31m    [![Open In Colab](https://colab.research.google.com/assets/colab-badge.svg)](https://github.com/yandexdataschool/Practical_DL/blob/spring20/seminar3_pytoch.ipynb)\u001b[0m\n\u001b[0m     ^\u001b[0m\n\u001b[0;31mSyntaxError\u001b[0m\u001b[0;31m:\u001b[0m invalid syntax\n"
          ]
        }
      ]
    },
    {
      "cell_type": "markdown",
      "metadata": {
        "id": "2MaELIpIDMoA",
        "colab_type": "text"
      },
      "source": [
        "# Tiny ImageNet dataset\n",
        "This week, we shall focus on the image recognition problem on Tiny Image Net dataset\n",
        "* 100k images of shape 3x64x64\n",
        "* 200 different classes: snakes, spaiders, cats, trucks, grasshopper, gull, etc.\n"
      ]
    },
    {
      "cell_type": "code",
      "metadata": {
        "id": "rS_-00tYDMoB",
        "colab_type": "code",
        "colab": {}
      },
      "source": [
        "import torchvision\n",
        "import torch\n",
        "from torchvision import transforms"
      ],
      "execution_count": 0,
      "outputs": []
    },
    {
      "cell_type": "code",
      "metadata": {
        "id": "sCvh1ICbHNCE",
        "colab_type": "code",
        "colab": {
          "base_uri": "https://localhost:8080/",
          "height": 904
        },
        "outputId": "e61fee74-e644-474d-d63b-4ec6dc2a1a72"
      },
      "source": [
        "!wget --no-check-certificate 'https://docs.google.com/uc?export=download&id=1UksGhGn63aQLAfGrAkGzdx69U6waEHPR' -O tinyim3.png\n",
        "!wget --no-check-certificate 'https://docs.google.com/uc?export=download&id=19qsD0o7pfAI8UYxgDY18sdRjV0Aantn2' -O tiny_img.py\n",
        "!wget --no-check-certificate 'https://docs.google.com/uc?export=download&id=12IrLjz8pss4284xsBAJt6CW6yELPH4tL' -O tiniim.png"
      ],
      "execution_count": 2,
      "outputs": [
        {
          "output_type": "stream",
          "text": [
            "--2020-02-24 17:24:07--  https://docs.google.com/uc?export=download&id=1UksGhGn63aQLAfGrAkGzdx69U6waEHPR\n",
            "Resolving docs.google.com (docs.google.com)... 172.217.11.78, 2607:f8b0:4007:802::200e\n",
            "Connecting to docs.google.com (docs.google.com)|172.217.11.78|:443... connected.\n",
            "HTTP request sent, awaiting response... 302 Moved Temporarily\n",
            "Location: https://doc-0k-6s-docs.googleusercontent.com/docs/securesc/ha0ro937gcuc7l7deffksulhg5h7mbp1/6fp6qi800fs0g1mrbo6kivfs631tkmhi/1582564500000/01961971800886548445/*/1UksGhGn63aQLAfGrAkGzdx69U6waEHPR?e=download [following]\n",
            "Warning: wildcards not supported in HTTP.\n",
            "--2020-02-24 17:24:08--  https://doc-0k-6s-docs.googleusercontent.com/docs/securesc/ha0ro937gcuc7l7deffksulhg5h7mbp1/6fp6qi800fs0g1mrbo6kivfs631tkmhi/1582564500000/01961971800886548445/*/1UksGhGn63aQLAfGrAkGzdx69U6waEHPR?e=download\n",
            "Resolving doc-0k-6s-docs.googleusercontent.com (doc-0k-6s-docs.googleusercontent.com)... 172.217.4.161, 2607:f8b0:4007:801::2001\n",
            "Connecting to doc-0k-6s-docs.googleusercontent.com (doc-0k-6s-docs.googleusercontent.com)|172.217.4.161|:443... connected.\n",
            "HTTP request sent, awaiting response... 200 OK\n",
            "Length: 52313 (51K) [image/png]\n",
            "Saving to: ‘tinyim3.png’\n",
            "\n",
            "tinyim3.png         100%[===================>]  51.09K  --.-KB/s    in 0.04s   \n",
            "\n",
            "2020-02-24 17:24:08 (1.40 MB/s) - ‘tinyim3.png’ saved [52313/52313]\n",
            "\n",
            "--2020-02-24 17:24:10--  https://docs.google.com/uc?export=download&id=19qsD0o7pfAI8UYxgDY18sdRjV0Aantn2\n",
            "Resolving docs.google.com (docs.google.com)... 216.58.193.206, 2607:f8b0:4007:802::200e\n",
            "Connecting to docs.google.com (docs.google.com)|216.58.193.206|:443... connected.\n",
            "HTTP request sent, awaiting response... 302 Moved Temporarily\n",
            "Location: https://doc-0c-6s-docs.googleusercontent.com/docs/securesc/ha0ro937gcuc7l7deffksulhg5h7mbp1/5uqhbjvb3j3d3hmj9md0h8sctcp9ocsc/1582564500000/01961971800886548445/*/19qsD0o7pfAI8UYxgDY18sdRjV0Aantn2?e=download [following]\n",
            "Warning: wildcards not supported in HTTP.\n",
            "--2020-02-24 17:24:10--  https://doc-0c-6s-docs.googleusercontent.com/docs/securesc/ha0ro937gcuc7l7deffksulhg5h7mbp1/5uqhbjvb3j3d3hmj9md0h8sctcp9ocsc/1582564500000/01961971800886548445/*/19qsD0o7pfAI8UYxgDY18sdRjV0Aantn2?e=download\n",
            "Resolving doc-0c-6s-docs.googleusercontent.com (doc-0c-6s-docs.googleusercontent.com)... 172.217.4.161, 2607:f8b0:4007:801::2001\n",
            "Connecting to doc-0c-6s-docs.googleusercontent.com (doc-0c-6s-docs.googleusercontent.com)|172.217.4.161|:443... connected.\n",
            "HTTP request sent, awaiting response... 200 OK\n",
            "Length: 3378 (3.3K) [text/x-python-script]\n",
            "Saving to: ‘tiny_img.py’\n",
            "\n",
            "tiny_img.py         100%[===================>]   3.30K  --.-KB/s    in 0s      \n",
            "\n",
            "2020-02-24 17:24:10 (57.0 MB/s) - ‘tiny_img.py’ saved [3378/3378]\n",
            "\n",
            "--2020-02-24 17:24:12--  https://docs.google.com/uc?export=download&id=12IrLjz8pss4284xsBAJt6CW6yELPH4tL\n",
            "Resolving docs.google.com (docs.google.com)... 216.58.193.206, 2607:f8b0:4007:802::200e\n",
            "Connecting to docs.google.com (docs.google.com)|216.58.193.206|:443... connected.\n",
            "HTTP request sent, awaiting response... 302 Moved Temporarily\n",
            "Location: https://doc-00-6s-docs.googleusercontent.com/docs/securesc/ha0ro937gcuc7l7deffksulhg5h7mbp1/vl6ntnhdalkruu0viphlvtot4ii8c7pb/1582564500000/01961971800886548445/*/12IrLjz8pss4284xsBAJt6CW6yELPH4tL?e=download [following]\n",
            "Warning: wildcards not supported in HTTP.\n",
            "--2020-02-24 17:24:12--  https://doc-00-6s-docs.googleusercontent.com/docs/securesc/ha0ro937gcuc7l7deffksulhg5h7mbp1/vl6ntnhdalkruu0viphlvtot4ii8c7pb/1582564500000/01961971800886548445/*/12IrLjz8pss4284xsBAJt6CW6yELPH4tL?e=download\n",
            "Resolving doc-00-6s-docs.googleusercontent.com (doc-00-6s-docs.googleusercontent.com)... 172.217.4.161, 2607:f8b0:4007:801::2001\n",
            "Connecting to doc-00-6s-docs.googleusercontent.com (doc-00-6s-docs.googleusercontent.com)|172.217.4.161|:443... connected.\n",
            "HTTP request sent, awaiting response... 200 OK\n",
            "Length: 59018 (58K) [image/png]\n",
            "Saving to: ‘tiniim.png’\n",
            "\n",
            "tiniim.png          100%[===================>]  57.63K  --.-KB/s    in 0.04s   \n",
            "\n",
            "2020-02-24 17:24:12 (1.45 MB/s) - ‘tiniim.png’ saved [59018/59018]\n",
            "\n"
          ],
          "name": "stdout"
        }
      ]
    },
    {
      "cell_type": "code",
      "metadata": {
        "id": "5rQhiYyRDMoG",
        "colab_type": "code",
        "colab": {
          "base_uri": "https://localhost:8080/",
          "height": 34
        },
        "outputId": "673193cb-7470-4aae-9078-c86673dfa1be"
      },
      "source": [
        "from tiny_img import download_tinyImg200\n",
        "data_path = '.'\n",
        "download_tinyImg200(data_path)"
      ],
      "execution_count": 3,
      "outputs": [
        {
          "output_type": "stream",
          "text": [
            "./tiny-imagenet-200.zip\n"
          ],
          "name": "stdout"
        }
      ]
    },
    {
      "cell_type": "code",
      "metadata": {
        "id": "5vq5Cm0ADMoK",
        "colab_type": "code",
        "colab": {}
      },
      "source": [
        "dataset = torchvision.datasets.ImageFolder('tiny-imagenet-200/train', transform=transforms.ToTensor())\n",
        "test_dataset = torchvision.datasets.ImageFolder('tiny-imagenet-200/val', transform=transforms.ToTensor())\n",
        "train_dataset, val_dataset = torch.utils.data.random_split(dataset, [80000, 20000])\n",
        "test_dataset, val_dataset = torch.utils.data.random_split(val_dataset, [10000, 10000])"
      ],
      "execution_count": 0,
      "outputs": []
    },
    {
      "cell_type": "code",
      "metadata": {
        "id": "tY6OUeOODMoN",
        "colab_type": "code",
        "colab": {}
      },
      "source": [
        "batch_size = 50\n",
        "train_batch_gen = torch.utils.data.DataLoader(train_dataset, \n",
        "                                              batch_size=batch_size,\n",
        "                                              shuffle=True,\n",
        "                                              num_workers=1)"
      ],
      "execution_count": 0,
      "outputs": []
    },
    {
      "cell_type": "code",
      "metadata": {
        "id": "HBgW-gzwDMoQ",
        "colab_type": "code",
        "colab": {}
      },
      "source": [
        "val_batch_gen = torch.utils.data.DataLoader(val_dataset, \n",
        "                                              batch_size=batch_size,\n",
        "                                              shuffle=True,\n",
        "                                              num_workers=1)"
      ],
      "execution_count": 0,
      "outputs": []
    },
    {
      "cell_type": "markdown",
      "metadata": {
        "id": "swKtJaVyDMoU",
        "colab_type": "text"
      },
      "source": [
        "## Image examples ##"
      ]
    },
    {
      "cell_type": "markdown",
      "metadata": {
        "id": "h5wImXEaDMoV",
        "colab_type": "text"
      },
      "source": [
        "\n",
        "\n",
        "<tr>\n",
        "    <td> <img src=\"https://github.com/yandexdataschool/Practical_DL/blob/sem3spring2019/week03_convnets/tinyim3.png?raw=1\" alt=\"Drawing\" style=\"width:90%\"/> </td>\n",
        "    <td> <img src=\"https://github.com/yandexdataschool/Practical_DL/blob/sem3spring2019/week03_convnets/tinyim2.png?raw=1\" alt=\"Drawing\" style=\"width:90%\"/> </td>\n",
        "</tr>\n"
      ]
    },
    {
      "cell_type": "markdown",
      "metadata": {
        "id": "Do-qRQp8DMoW",
        "colab_type": "text"
      },
      "source": [
        "<tr>\n",
        "    <td> <img src=\"https://github.com/yandexdataschool/Practical_DL/blob/sem3spring2019/week03_convnets/tiniim.png?raw=1\" alt=\"Drawing\" style=\"width:90%\"/> </td>\n",
        "</tr>"
      ]
    },
    {
      "cell_type": "markdown",
      "metadata": {
        "id": "arxSyhBLDMoX",
        "colab_type": "text"
      },
      "source": [
        "# Building a network\n",
        "\n",
        "Simple neural networks with layers applied on top of one another can be implemented as `torch.nn.Sequential` - just add a list of pre-built modules and let it train."
      ]
    },
    {
      "cell_type": "code",
      "metadata": {
        "id": "7QF2hMVxDMoY",
        "colab_type": "code",
        "colab": {}
      },
      "source": [
        "import torch, torch.nn as nn\n",
        "import torch.nn.functional as F\n",
        "from torch.autograd import Variable\n",
        "\n",
        "# a special module that converts [batch, channel, w, h] to [batch, units]\n",
        "class Flatten(nn.Module):\n",
        "    def forward(self, input):\n",
        "        return input.view(input.size(0), -1)"
      ],
      "execution_count": 0,
      "outputs": []
    },
    {
      "cell_type": "markdown",
      "metadata": {
        "id": "DJ6QKG3hDMoa",
        "colab_type": "text"
      },
      "source": [
        "Let's start with a dense network for our baseline:"
      ]
    },
    {
      "cell_type": "code",
      "metadata": {
        "id": "u_mbfRXMDMob",
        "colab_type": "code",
        "colab": {}
      },
      "source": [
        "model = nn.Sequential()\n",
        "\n",
        "# reshape from \"images\" to flat vectors\n",
        "model.add_module('flatten', Flatten())\n",
        "\n",
        "# dense \"head\"\n",
        "model.add_module('dense1', nn.Linear(3 * 64 * 64, 1064))\n",
        "model.add_module('dense2', nn.Linear(1064, 512))\n",
        "model.add_module('dropout0', nn.Dropout(0.05)) \n",
        "model.add_module('dense3', nn.Linear(512, 256))\n",
        "model.add_module('dropout1', nn.Dropout(0.05))\n",
        "model.add_module('dense4', nn.Linear(256, 64))\n",
        "model.add_module('dropout2', nn.Dropout(0.05))\n",
        "model.add_module('dense1_relu', nn.ReLU())\n",
        "model.add_module('dense2_logits', nn.Linear(64, 200)) # logits for 200 classes"
      ],
      "execution_count": 0,
      "outputs": []
    },
    {
      "cell_type": "markdown",
      "metadata": {
        "id": "DvugZZbeDMoe",
        "colab_type": "text"
      },
      "source": [
        "As in our basic tutorial, we train our model with negative log-likelihood aka crossentropy."
      ]
    },
    {
      "cell_type": "code",
      "metadata": {
        "id": "cGEhRWMYDMof",
        "colab_type": "code",
        "colab": {}
      },
      "source": [
        "def compute_loss(X_batch, y_batch):\n",
        "    X_batch = Variable(torch.FloatTensor(X_batch)).cuda()\n",
        "    y_batch = Variable(torch.LongTensor(y_batch)).cuda()\n",
        "    logits = model.cuda()(X_batch)\n",
        "    return F.cross_entropy(logits, y_batch).mean()"
      ],
      "execution_count": 0,
      "outputs": []
    },
    {
      "cell_type": "markdown",
      "metadata": {
        "id": "kEhnKaujDMoi",
        "colab_type": "text"
      },
      "source": [
        "### Training on minibatches\n",
        "* We got 100k images, that's way too many for a full-batch SGD. Let's train on minibatches instead\n",
        "* Below is a function that splits the training sample into minibatches"
      ]
    },
    {
      "cell_type": "code",
      "metadata": {
        "id": "GMA79nDODMoi",
        "colab_type": "code",
        "colab": {}
      },
      "source": [
        "opt = torch.optim.SGD(model.parameters(), lr=0.01)\n",
        "\n",
        "train_loss = []\n",
        "val_accuracy = []"
      ],
      "execution_count": 0,
      "outputs": []
    },
    {
      "cell_type": "code",
      "metadata": {
        "id": "sEy0LiHxDMol",
        "colab_type": "code",
        "colab": {
          "base_uri": "https://localhost:8080/",
          "height": 1000
        },
        "outputId": "8f2b5e82-1295-4f88-8413-d39dafc35f0e"
      },
      "source": [
        "import numpy as np\n",
        "\n",
        "opt = torch.optim.SGD(model.parameters(), lr=0.01)\n",
        "\n",
        "train_loss = []\n",
        "val_accuracy = []\n",
        "\n",
        "num_epochs = 50 # total amount of full passes over training data\n",
        "\n",
        "import time\n",
        "\n",
        "for epoch in range(num_epochs):\n",
        "    start_time = time.time()\n",
        "    model.train(True) # enable dropout / batch_norm training behavior\n",
        "    for (X_batch, y_batch) in train_batch_gen:\n",
        "        # train on batch\n",
        "        loss = compute_loss(X_batch, y_batch)\n",
        "        loss.backward()\n",
        "        opt.step()\n",
        "        opt.zero_grad()\n",
        "        train_loss.append(loss.cpu().data.numpy())\n",
        "    \n",
        "    model.train(False) # disable dropout / use averages for batch_norm\n",
        "    for X_batch, y_batch in val_batch_gen:\n",
        "        logits = model(Variable(torch.FloatTensor(X_batch)).cuda())\n",
        "        y_pred = logits.max(1)[1].data\n",
        "        val_accuracy.append(np.mean( (y_batch.cpu() == y_pred.cpu()).numpy() ))\n",
        "\n",
        "    \n",
        "    # Then we print the results for this epoch:\n",
        "    print(\"Epoch {} of {} took {:.3f}s\".format(\n",
        "        epoch + 1, num_epochs, time.time() - start_time))\n",
        "    print(\"  training loss (in-iteration): \\t{:.6f}\".format(\n",
        "        np.mean(train_loss[-len(train_dataset) // batch_size :])))\n",
        "    print(\"  validation accuracy: \\t\\t\\t{:.2f} %\".format(\n",
        "        np.mean(val_accuracy[-len(val_dataset) // batch_size :]) * 100))"
      ],
      "execution_count": 12,
      "outputs": [
        {
          "output_type": "stream",
          "text": [
            "Epoch 1 of 50 took 46.139s\n",
            "  training loss (in-iteration): \t5.286260\n",
            "  validation accuracy: \t\t\t1.11 %\n",
            "Epoch 2 of 50 took 35.906s\n",
            "  training loss (in-iteration): \t5.174175\n",
            "  validation accuracy: \t\t\t1.49 %\n",
            "Epoch 3 of 50 took 35.171s\n",
            "  training loss (in-iteration): \t5.070048\n",
            "  validation accuracy: \t\t\t2.23 %\n",
            "Epoch 4 of 50 took 35.733s\n",
            "  training loss (in-iteration): \t5.003992\n",
            "  validation accuracy: \t\t\t3.23 %\n",
            "Epoch 5 of 50 took 35.206s\n",
            "  training loss (in-iteration): \t4.928710\n",
            "  validation accuracy: \t\t\t4.00 %\n",
            "Epoch 6 of 50 took 35.882s\n",
            "  training loss (in-iteration): \t4.859730\n",
            "  validation accuracy: \t\t\t4.76 %\n",
            "Epoch 7 of 50 took 35.796s\n",
            "  training loss (in-iteration): \t4.811853\n",
            "  validation accuracy: \t\t\t4.68 %\n",
            "Epoch 8 of 50 took 35.444s\n",
            "  training loss (in-iteration): \t4.773252\n",
            "  validation accuracy: \t\t\t5.32 %\n",
            "Epoch 9 of 50 took 36.105s\n",
            "  training loss (in-iteration): \t4.739018\n",
            "  validation accuracy: \t\t\t5.85 %\n",
            "Epoch 10 of 50 took 36.152s\n",
            "  training loss (in-iteration): \t4.708728\n",
            "  validation accuracy: \t\t\t5.95 %\n",
            "Epoch 11 of 50 took 35.913s\n",
            "  training loss (in-iteration): \t4.681361\n",
            "  validation accuracy: \t\t\t6.51 %\n",
            "Epoch 12 of 50 took 35.829s\n",
            "  training loss (in-iteration): \t4.658111\n",
            "  validation accuracy: \t\t\t6.78 %\n",
            "Epoch 13 of 50 took 36.340s\n",
            "  training loss (in-iteration): \t4.637565\n",
            "  validation accuracy: \t\t\t6.73 %\n",
            "Epoch 14 of 50 took 36.064s\n",
            "  training loss (in-iteration): \t4.617895\n",
            "  validation accuracy: \t\t\t6.75 %\n",
            "Epoch 15 of 50 took 35.767s\n",
            "  training loss (in-iteration): \t4.598866\n",
            "  validation accuracy: \t\t\t6.90 %\n",
            "Epoch 16 of 50 took 35.966s\n",
            "  training loss (in-iteration): \t4.581477\n",
            "  validation accuracy: \t\t\t7.25 %\n",
            "Epoch 17 of 50 took 35.891s\n",
            "  training loss (in-iteration): \t4.565782\n",
            "  validation accuracy: \t\t\t7.72 %\n",
            "Epoch 18 of 50 took 36.016s\n",
            "  training loss (in-iteration): \t4.547386\n",
            "  validation accuracy: \t\t\t7.51 %\n",
            "Epoch 19 of 50 took 36.765s\n",
            "  training loss (in-iteration): \t4.530603\n",
            "  validation accuracy: \t\t\t7.64 %\n",
            "Epoch 20 of 50 took 35.929s\n",
            "  training loss (in-iteration): \t4.516444\n",
            "  validation accuracy: \t\t\t7.76 %\n",
            "Epoch 21 of 50 took 36.072s\n",
            "  training loss (in-iteration): \t4.502040\n",
            "  validation accuracy: \t\t\t8.01 %\n",
            "Epoch 22 of 50 took 36.235s\n",
            "  training loss (in-iteration): \t4.488421\n",
            "  validation accuracy: \t\t\t8.38 %\n",
            "Epoch 23 of 50 took 35.971s\n",
            "  training loss (in-iteration): \t4.474842\n",
            "  validation accuracy: \t\t\t8.03 %\n",
            "Epoch 24 of 50 took 36.170s\n",
            "  training loss (in-iteration): \t4.462475\n",
            "  validation accuracy: \t\t\t8.39 %\n",
            "Epoch 25 of 50 took 35.959s\n",
            "  training loss (in-iteration): \t4.449772\n",
            "  validation accuracy: \t\t\t7.90 %\n",
            "Epoch 26 of 50 took 36.059s\n",
            "  training loss (in-iteration): \t4.436523\n",
            "  validation accuracy: \t\t\t8.20 %\n",
            "Epoch 27 of 50 took 36.545s\n",
            "  training loss (in-iteration): \t4.424053\n",
            "  validation accuracy: \t\t\t8.59 %\n",
            "Epoch 28 of 50 took 36.254s\n",
            "  training loss (in-iteration): \t4.416118\n",
            "  validation accuracy: \t\t\t7.82 %\n",
            "Epoch 29 of 50 took 36.746s\n",
            "  training loss (in-iteration): \t4.402203\n",
            "  validation accuracy: \t\t\t8.76 %\n",
            "Epoch 30 of 50 took 36.106s\n",
            "  training loss (in-iteration): \t4.392930\n",
            "  validation accuracy: \t\t\t9.08 %\n",
            "Epoch 31 of 50 took 36.446s\n",
            "  training loss (in-iteration): \t4.381007\n",
            "  validation accuracy: \t\t\t8.01 %\n",
            "Epoch 32 of 50 took 36.273s\n",
            "  training loss (in-iteration): \t4.371973\n",
            "  validation accuracy: \t\t\t8.24 %\n",
            "Epoch 33 of 50 took 35.934s\n",
            "  training loss (in-iteration): \t4.358545\n",
            "  validation accuracy: \t\t\t8.43 %\n",
            "Epoch 34 of 50 took 36.180s\n",
            "  training loss (in-iteration): \t4.351957\n",
            "  validation accuracy: \t\t\t8.52 %\n",
            "Epoch 35 of 50 took 36.015s\n",
            "  training loss (in-iteration): \t4.339577\n",
            "  validation accuracy: \t\t\t9.01 %\n",
            "Epoch 36 of 50 took 36.684s\n",
            "  training loss (in-iteration): \t4.329912\n",
            "  validation accuracy: \t\t\t8.93 %\n",
            "Epoch 37 of 50 took 36.532s\n",
            "  training loss (in-iteration): \t4.321932\n",
            "  validation accuracy: \t\t\t8.90 %\n",
            "Epoch 38 of 50 took 36.358s\n",
            "  training loss (in-iteration): \t4.313469\n",
            "  validation accuracy: \t\t\t9.06 %\n",
            "Epoch 39 of 50 took 36.454s\n",
            "  training loss (in-iteration): \t4.306699\n",
            "  validation accuracy: \t\t\t8.63 %\n",
            "Epoch 40 of 50 took 37.241s\n",
            "  training loss (in-iteration): \t4.293546\n",
            "  validation accuracy: \t\t\t8.95 %\n",
            "Epoch 41 of 50 took 37.347s\n",
            "  training loss (in-iteration): \t4.284156\n",
            "  validation accuracy: \t\t\t9.29 %\n",
            "Epoch 42 of 50 took 37.034s\n",
            "  training loss (in-iteration): \t4.276026\n",
            "  validation accuracy: \t\t\t8.92 %\n",
            "Epoch 43 of 50 took 36.598s\n",
            "  training loss (in-iteration): \t4.266120\n",
            "  validation accuracy: \t\t\t8.79 %\n",
            "Epoch 44 of 50 took 37.007s\n",
            "  training loss (in-iteration): \t4.261673\n",
            "  validation accuracy: \t\t\t8.47 %\n",
            "Epoch 45 of 50 took 36.533s\n",
            "  training loss (in-iteration): \t4.248847\n",
            "  validation accuracy: \t\t\t8.99 %\n",
            "Epoch 46 of 50 took 36.395s\n",
            "  training loss (in-iteration): \t4.241881\n",
            "  validation accuracy: \t\t\t9.49 %\n",
            "Epoch 47 of 50 took 36.580s\n",
            "  training loss (in-iteration): \t4.235344\n",
            "  validation accuracy: \t\t\t9.29 %\n",
            "Epoch 48 of 50 took 36.337s\n",
            "  training loss (in-iteration): \t4.226885\n",
            "  validation accuracy: \t\t\t8.75 %\n",
            "Epoch 49 of 50 took 36.747s\n",
            "  training loss (in-iteration): \t4.217618\n",
            "  validation accuracy: \t\t\t9.15 %\n",
            "Epoch 50 of 50 took 36.602s\n",
            "  training loss (in-iteration): \t4.212186\n",
            "  validation accuracy: \t\t\t8.95 %\n"
          ],
          "name": "stdout"
        }
      ]
    },
    {
      "cell_type": "markdown",
      "metadata": {
        "id": "77q6ffk0DMon",
        "colab_type": "text"
      },
      "source": [
        "Don't wait for full 100 epochs. You can interrupt training after 5-20 epochs once validation accuracy stops going up.\n",
        "```\n",
        "```\n",
        "\n",
        "### Final test"
      ]
    },
    {
      "cell_type": "code",
      "metadata": {
        "id": "KmK71tpNDMoo",
        "colab_type": "code",
        "colab": {
          "base_uri": "https://localhost:8080/",
          "height": 232
        },
        "outputId": "36d0c924-962a-476a-cead-b1158e7f7af1"
      },
      "source": [
        "model.train(False) # disable dropout / use averages for batch_norm\n",
        "test_batch_acc = []\n",
        "for X_batch, y_batch in val_batch_test:\n",
        "    logits = model(Variable(torch.FloatTensor(X_batch)).cuda())\n",
        "    y_pred = logits.max(1)[1].data\n",
        "    test_batch_acc.append(np.mean( (y_batch.cpu() == y_pred.cpu()).numpy() ))\n",
        "\n",
        "\n",
        "test_accuracy = np.mean(test_batch_acc)\n",
        "    \n",
        "print(\"Final results:\")\n",
        "print(\"  test accuracy:\\t\\t{:.2f} %\".format(\n",
        "    test_accuracy * 100))\n",
        "\n",
        "if test_accuracy * 100 > 70:\n",
        "    print(\"U'r freakin' amazin'!\")\n",
        "elif test_accuracy * 100 > 50:\n",
        "    print(\"Achievement unlocked: 110lvl Warlock!\")\n",
        "elif test_accuracy * 100 > 40:\n",
        "    print(\"Achievement unlocked: 80lvl Warlock!\")\n",
        "elif test_accuracy * 100 > 30:\n",
        "    print(\"Achievement unlocked: 70lvl Warlock!\")\n",
        "elif test_accuracy * 100 > 20:\n",
        "    print(\"Achievement unlocked: 60lvl Warlock!\")\n",
        "else:\n",
        "    print(\"We need more magic! Follow instructons below\")"
      ],
      "execution_count": 2,
      "outputs": [
        {
          "output_type": "error",
          "ename": "NameError",
          "evalue": "ignored",
          "traceback": [
            "\u001b[0;31m---------------------------------------------------------------------------\u001b[0m",
            "\u001b[0;31mNameError\u001b[0m                                 Traceback (most recent call last)",
            "\u001b[0;32m<ipython-input-2-4823c387e872>\u001b[0m in \u001b[0;36m<module>\u001b[0;34m()\u001b[0m\n\u001b[0;32m----> 1\u001b[0;31m \u001b[0mmodel\u001b[0m\u001b[0;34m.\u001b[0m\u001b[0mtrain\u001b[0m\u001b[0;34m(\u001b[0m\u001b[0;32mFalse\u001b[0m\u001b[0;34m)\u001b[0m \u001b[0;31m# disable dropout / use averages for batch_norm\u001b[0m\u001b[0;34m\u001b[0m\u001b[0;34m\u001b[0m\u001b[0m\n\u001b[0m\u001b[1;32m      2\u001b[0m \u001b[0mtest_batch_acc\u001b[0m \u001b[0;34m=\u001b[0m \u001b[0;34m[\u001b[0m\u001b[0;34m]\u001b[0m\u001b[0;34m\u001b[0m\u001b[0;34m\u001b[0m\u001b[0m\n\u001b[1;32m      3\u001b[0m \u001b[0;32mfor\u001b[0m \u001b[0mX_batch\u001b[0m\u001b[0;34m,\u001b[0m \u001b[0my_batch\u001b[0m \u001b[0;32min\u001b[0m \u001b[0mval_batch_test\u001b[0m\u001b[0;34m:\u001b[0m\u001b[0;34m\u001b[0m\u001b[0;34m\u001b[0m\u001b[0m\n\u001b[1;32m      4\u001b[0m     \u001b[0mlogits\u001b[0m \u001b[0;34m=\u001b[0m \u001b[0mmodel\u001b[0m\u001b[0;34m(\u001b[0m\u001b[0mVariable\u001b[0m\u001b[0;34m(\u001b[0m\u001b[0mtorch\u001b[0m\u001b[0;34m.\u001b[0m\u001b[0mFloatTensor\u001b[0m\u001b[0;34m(\u001b[0m\u001b[0mX_batch\u001b[0m\u001b[0;34m)\u001b[0m\u001b[0;34m)\u001b[0m\u001b[0;34m.\u001b[0m\u001b[0mcuda\u001b[0m\u001b[0;34m(\u001b[0m\u001b[0;34m)\u001b[0m\u001b[0;34m)\u001b[0m\u001b[0;34m\u001b[0m\u001b[0;34m\u001b[0m\u001b[0m\n\u001b[1;32m      5\u001b[0m     \u001b[0my_pred\u001b[0m \u001b[0;34m=\u001b[0m \u001b[0mlogits\u001b[0m\u001b[0;34m.\u001b[0m\u001b[0mmax\u001b[0m\u001b[0;34m(\u001b[0m\u001b[0;36m1\u001b[0m\u001b[0;34m)\u001b[0m\u001b[0;34m[\u001b[0m\u001b[0;36m1\u001b[0m\u001b[0;34m]\u001b[0m\u001b[0;34m.\u001b[0m\u001b[0mdata\u001b[0m\u001b[0;34m\u001b[0m\u001b[0;34m\u001b[0m\u001b[0m\n",
            "\u001b[0;31mNameError\u001b[0m: name 'model' is not defined"
          ]
        }
      ]
    },
    {
      "cell_type": "markdown",
      "metadata": {
        "id": "Cy06JedIDMos",
        "colab_type": "text"
      },
      "source": [
        "## Task I: small convolution net\n",
        "### First step\n",
        "\n",
        "Let's create a mini-convolutional network with roughly such architecture:\n",
        "* Input layer\n",
        "* 3x3 convolution with 128 filters and _ReLU_ activation\n",
        "* 2x2 pooling (or set previous convolution stride to 3)\n",
        "* Flatten\n",
        "* Dense layer with 1024 neurons and _ReLU_ activation\n",
        "* 30% dropout\n",
        "* Output dense layer.\n",
        "\n",
        "\n",
        "__Convolutional layers__ in torch are just like all other layers, but with a specific set of parameters:\n",
        "\n",
        "__`...`__\n",
        "\n",
        "__`model.add_module('conv1', nn.Conv2d(in_channels=3, out_channels=128, kernel_size=3)) # convolution`__\n",
        "\n",
        "__`model.add_module('pool1', nn.MaxPool2d(2)) # max pooling 2x2`__\n",
        "\n",
        "__`...`__\n",
        "\n",
        "\n",
        "Once you're done (and compute_loss no longer raises errors), train it with __Adam__ optimizer with default params (feel free to modify the code above).\n",
        "\n",
        "If everything is right, you should get at least __16%__ validation accuracy.\n",
        "\n",
        "__HACK_OF_THE_DAY__ :the number of channels must be in the order of the number of class_labels"
      ]
    },
    {
      "cell_type": "code",
      "metadata": {
        "id": "lEZfV3fIDMos",
        "colab_type": "code",
        "colab": {}
      },
      "source": [
        "model = nn.Sequential()\n",
        "\n",
        "#decribe convnet here\n",
        "\n",
        "model.add_module('dense1_logits', nn.Linear(1024, 200)) # logits for 200 classes"
      ],
      "execution_count": 0,
      "outputs": []
    },
    {
      "cell_type": "code",
      "metadata": {
        "id": "SuIuiCmUDMov",
        "colab_type": "code",
        "colab": {}
      },
      "source": [
        "opt = torch.optim.SGD(model.parameters(), lr=0.01)\n",
        "\n",
        "train_loss = []\n",
        "val_accuracy = []"
      ],
      "execution_count": 0,
      "outputs": []
    },
    {
      "cell_type": "code",
      "metadata": {
        "id": "32STsNW0DMox",
        "colab_type": "code",
        "colab": {}
      },
      "source": [
        "from torchsummary import summary\n",
        "\n",
        "summary(model.cuda(), (3, 64, 64))"
      ],
      "execution_count": 0,
      "outputs": []
    },
    {
      "cell_type": "markdown",
      "metadata": {
        "id": "4k_VEEp-DMoz",
        "colab_type": "text"
      },
      "source": [
        "## retrain it ##"
      ]
    },
    {
      "cell_type": "code",
      "metadata": {
        "id": "NAG-g8QrDMo0",
        "colab_type": "code",
        "colab": {}
      },
      "source": [
        "import time\n",
        "num_epochs = 100 # total amount of full passes over training data\n",
        "batch_size = 50  # number of samples processed in one SGD iteration\n",
        "\n",
        "\n",
        "for epoch in range(num_epochs):\n",
        "    print (num_epochs)\n",
        "    # In each epoch, we do a full pass over the training data:\n",
        "    start_time = time.time()\n",
        "    model.train(True) # enable dropout / batch_norm training behavior\n",
        "    for (X_batch, y_batch) in train_batch_gen:\n",
        "        # train on batch\n",
        "        loss = compute_loss(X_batch, y_batch)\n",
        "        loss.backward()\n",
        "        opt.step()\n",
        "        opt.zero_grad()\n",
        "        train_loss.append(loss.data.cpu().numpy())\n",
        "    print (num_epochs)    \n",
        "    model.train(False) # disable dropout / use averages for batch_norm\n",
        "    for X_batch, y_batch in val_batch_gen:\n",
        "        logits = model(Variable(torch.FloatTensor(X_batch)).cuda())\n",
        "        y_pred = logits.max(1)[1].data\n",
        "        val_accuracy.append(np.mean( (y_batch.cpu() == y_pred.cpu()).numpy() ))\n",
        "\n",
        "    print (num_epochs)\n",
        "    # Then we print the results for this epoch:\n",
        "    print(\"Epoch {} of {} took {:.3f}s\".format(\n",
        "        epoch + 1, num_epochs, time.time() - start_time))\n",
        "    print(\"  training loss (in-iteration): \\t{:.6f}\".format(\n",
        "        np.mean(train_loss[-len(train_dataset) // batch_size :])))\n",
        "    print(\"  validation accuracy: \\t\\t\\t{:.2f} %\".format(\n",
        "        np.mean(val_accuracy[-len(val_dataset) // batch_size :]) * 100))"
      ],
      "execution_count": 0,
      "outputs": []
    },
    {
      "cell_type": "markdown",
      "metadata": {
        "id": "92eADk6qDMo2",
        "colab_type": "text"
      },
      "source": [
        "```\n",
        "\n",
        "```\n",
        "\n",
        "```\n",
        "\n",
        "```\n",
        "\n",
        "```\n",
        "\n",
        "```\n",
        "\n",
        "```\n",
        "\n",
        "```\n",
        "\n",
        "```\n",
        "\n",
        "```\n",
        "\n",
        "__Hint:__ If you don't want to compute shapes by hand, just plug in any shape (e.g. 1 unit) and run compute_loss. You will see something like this:\n",
        "\n",
        "__`RuntimeError: size mismatch, m1: [5 x 1960], m2: [1 x 64] at /some/long/path/to/torch/operation`__\n",
        "\n",
        "See the __1960__ there? That's your actual input shape.\n",
        "\n",
        "## Task 2: adding normalization\n",
        "\n",
        "* Add batch norm (with default params) between convolution and ReLU\n",
        "  * nn.BatchNorm*d (1d for dense, 2d for conv)\n",
        "  * usually better to put them after linear/conv but before nonlinearity\n",
        "* Re-train the network with the same optimizer, it should get at least 20% validation accuracy at peak.\n",
        "\n",
        "To know more about **batch_norm** and **data covariate shift**\n",
        "\n",
        "https://towardsdatascience.com/batch-normalization-in-neural-networks-1ac91516821c\n",
        "\n",
        "https://www.youtube.com/watch?v=nUUqwaxLnWs"
      ]
    },
    {
      "cell_type": "code",
      "metadata": {
        "id": "LLbMCrwUDMo2",
        "colab_type": "code",
        "colab": {}
      },
      "source": [
        "model = nn.Sequential()\n",
        "\n",
        "#decribe conv net with batchnorm here\n",
        "model.add_module('dense1_logits', nn.Linear(1024, 200)) # logits for 200 classes"
      ],
      "execution_count": 0,
      "outputs": []
    },
    {
      "cell_type": "code",
      "metadata": {
        "id": "LN2d5KN7DMo5",
        "colab_type": "code",
        "colab": {}
      },
      "source": [
        "opt = torch.optim.SGD(model.parameters(), lr=0.01)\n",
        "\n",
        "train_loss = []\n",
        "val_accuracy = []"
      ],
      "execution_count": 0,
      "outputs": []
    },
    {
      "cell_type": "code",
      "metadata": {
        "id": "tnlGj42iDMo7",
        "colab_type": "code",
        "colab": {}
      },
      "source": [
        "import time\n",
        "num_epochs = 100 # total amount of full passes over training data\n",
        "batch_size = 50  # number of samples processed in one SGD iteration\n",
        "\n",
        "\n",
        "for epoch in range(num_epochs):\n",
        "    print (num_epochs)\n",
        "    # In each epoch, we do a full pass over the training data:\n",
        "    start_time = time.time()\n",
        "    model.train(True) # enable dropout / batch_norm training behavior\n",
        "    for (X_batch, y_batch) in train_batch_gen:\n",
        "        # train on batch\n",
        "        loss = compute_loss(X_batch, y_batch)\n",
        "        loss.backward()\n",
        "        opt.step()\n",
        "        opt.zero_grad()\n",
        "        train_loss.append(loss.data.cpu().numpy())\n",
        "    print (num_epochs)    \n",
        "    model.train(False) # disable dropout / use averages for batch_norm\n",
        "    for X_batch, y_batch in val_batch_gen:\n",
        "        logits = model(Variable(torch.FloatTensor(X_batch)).cuda())\n",
        "        y_pred = logits.max(1)[1].data\n",
        "        val_accuracy.append(np.mean( (y_batch.cpu() == y_pred.cpu()).numpy() ))\n",
        "\n",
        "    print (num_epochs)\n",
        "    # Then we print the results for this epoch:\n",
        "    print(\"Epoch {} of {} took {:.3f}s\".format(\n",
        "        epoch + 1, num_epochs, time.time() - start_time))\n",
        "    print(\"  training loss (in-iteration): \\t{:.6f}\".format(\n",
        "        np.mean(train_loss[-len(train_dataset) // batch_size :])))\n",
        "    print(\"  validation accuracy: \\t\\t\\t{:.2f} %\".format(\n",
        "        np.mean(val_accuracy[-len(val_dataset) // batch_size :]) * 100))"
      ],
      "execution_count": 0,
      "outputs": []
    },
    {
      "cell_type": "markdown",
      "metadata": {
        "id": "72fXRudFDMo9",
        "colab_type": "text"
      },
      "source": [
        "\n",
        "```\n",
        "\n",
        "```\n",
        "\n",
        "```\n",
        "\n",
        "```\n",
        "\n",
        "```\n",
        "\n",
        "```\n",
        "\n",
        "```\n",
        "\n",
        "```\n",
        "\n",
        "```\n",
        "\n",
        "```\n",
        "\n",
        "```\n",
        "\n",
        "```\n",
        "\n",
        "```\n",
        "\n",
        "```\n",
        "## Task 3: Data Augmentation\n",
        "\n",
        "** Augmenti - A spell used to produce water from a wand (Harry Potter Wiki) **\n",
        "\n",
        "<img src=\"https://github.com/yandexdataschool/Practical_DL/blob/sem3spring2019/week03_convnets/HagridsHut_PM_B6C28_Hagrid_sHutFireHarryFang.jpg?raw=1\" style=\"width:80%\">\n",
        "\n",
        "There's a powerful torch tool for image preprocessing useful to do data preprocessing and augmentation.\n",
        "\n",
        "Here's how it works: we define a pipeline that\n",
        "* makes random crops of data (augmentation)\n",
        "* randomly flips image horizontally (augmentation)\n",
        "* then normalizes it (preprocessing)"
      ]
    },
    {
      "cell_type": "markdown",
      "metadata": {
        "id": "_AG9EMuWDMo9",
        "colab_type": "text"
      },
      "source": [
        "When testing, we don't need random crops, just normalize with same statistics."
      ]
    },
    {
      "cell_type": "code",
      "metadata": {
        "id": "b8uC2R2PDMo-",
        "colab_type": "code",
        "colab": {}
      },
      "source": [
        "import torchvision\n",
        "from torchvision import transforms\n",
        "means = np.array((0.4914, 0.4822, 0.4465))\n",
        "stds = np.array((0.2023, 0.1994, 0.2010))\n",
        "\n",
        "transform_augment = transforms.Compose([\n",
        "    # decribe transformation here\n",
        "])"
      ],
      "execution_count": 0,
      "outputs": []
    },
    {
      "cell_type": "code",
      "metadata": {
        "id": "DTD34cgpDMpA",
        "colab_type": "code",
        "colab": {}
      },
      "source": [
        "dataset = torchvision.datasets.ImageFolder('tiny-imagenet-200/train', transform=transform_augment)"
      ],
      "execution_count": 0,
      "outputs": []
    },
    {
      "cell_type": "code",
      "metadata": {
        "id": "oBb0Gq6xDMpD",
        "colab_type": "code",
        "colab": {}
      },
      "source": [
        "train_dataset, val_dataset = torch.utils.data.random_split(dataset, [90000, 10000])"
      ],
      "execution_count": 0,
      "outputs": []
    },
    {
      "cell_type": "code",
      "metadata": {
        "id": "4Wu4eHU_DMpF",
        "colab_type": "code",
        "colab": {}
      },
      "source": [
        "train_batch_gen = torch.utils.data.DataLoader(train_dataset, \n",
        "                                              batch_size=batch_size,\n",
        "                                              shuffle=True,\n",
        "                                              num_workers=1)"
      ],
      "execution_count": 0,
      "outputs": []
    },
    {
      "cell_type": "code",
      "metadata": {
        "id": "cCOQEfSUDMpI",
        "colab_type": "code",
        "colab": {}
      },
      "source": [
        "val_batch_gen = torch.utils.data.DataLoader(val_dataset, \n",
        "                                              batch_size=batch_size,\n",
        "                                              shuffle=True,\n",
        "                                              num_workers=1)"
      ],
      "execution_count": 0,
      "outputs": []
    },
    {
      "cell_type": "code",
      "metadata": {
        "id": "dISTMNfcDMpK",
        "colab_type": "code",
        "colab": {}
      },
      "source": [
        "import time\n",
        "num_epochs = 100 # total amount of full passes over training data\n",
        "batch_size = 50  # number of samples processed in one SGD iteration\n",
        "\n",
        "\n",
        "for epoch in range(num_epochs):\n",
        "    print (num_epochs)\n",
        "    # In each epoch, we do a full pass over the training data:\n",
        "    start_time = time.time()\n",
        "    model.train(True) # enable dropout / batch_norm training behavior\n",
        "    for (X_batch, y_batch) in train_batch_gen:\n",
        "        # train on batch\n",
        "        loss = compute_loss(X_batch, y_batch)\n",
        "        loss.backward()\n",
        "        opt.step()\n",
        "        opt.zero_grad()\n",
        "        train_loss.append(loss.data.cpu().numpy())\n",
        "    print (num_epochs)    \n",
        "    model.train(False) # disable dropout / use averages for batch_norm\n",
        "    for X_batch, y_batch in val_batch_gen:\n",
        "        logits = model(Variable(torch.FloatTensor(X_batch)).cuda())\n",
        "        y_pred = logits.max(1)[1].data\n",
        "        val_accuracy.append(np.mean( (y_batch.cpu() == y_pred.cpu()).numpy() ))\n",
        "\n",
        "    print (num_epochs)\n",
        "    # Then we print the results for this epoch:\n",
        "    print(\"Epoch {} of {} took {:.3f}s\".format(\n",
        "        epoch + 1, num_epochs, time.time() - start_time))\n",
        "    print(\"  training loss (in-iteration): \\t{:.6f}\".format(\n",
        "        np.mean(train_loss[-len(train_dataset) // batch_size :])))\n",
        "    print(\"  validation accuracy: \\t\\t\\t{:.2f} %\".format(\n",
        "        np.mean(val_accuracy[-len(val_dataset) // batch_size :]) * 100))"
      ],
      "execution_count": 0,
      "outputs": []
    },
    {
      "cell_type": "markdown",
      "metadata": {
        "id": "vQG4txuJDMpN",
        "colab_type": "text"
      },
      "source": [
        "We need for test data __only normalization__, not cropping and rotation"
      ]
    },
    {
      "cell_type": "code",
      "metadata": {
        "id": "LntBFXN6DMpO",
        "colab_type": "code",
        "colab": {}
      },
      "source": [
        "transform_test = transforms.Compose([\n",
        "    transforms.ToTensor(),\n",
        "    transforms.Normalize(means, stds),\n",
        "])\n",
        "\n",
        "test_dataset = <YOUR CODE>"
      ],
      "execution_count": 0,
      "outputs": []
    },
    {
      "cell_type": "markdown",
      "metadata": {
        "id": "k7pl4SLpDMpQ",
        "colab_type": "text"
      },
      "source": [
        "## The Quest For A Better Network\n",
        "\n",
        "See `practical_dl/homework02` for a full-scale assignment."
      ]
    }
  ]
}